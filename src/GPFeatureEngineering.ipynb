{
 "cells": [
  {
   "cell_type": "code",
   "execution_count": 1,
   "id": "designed-fitting",
   "metadata": {},
   "outputs": [],
   "source": [
    "import numpy as np\n",
    "import pandas as pd\n",
    "import datetime as dt\n",
    "import ipdb"
   ]
  },
  {
   "cell_type": "code",
   "execution_count": 2,
   "id": "unlikely-drama",
   "metadata": {},
   "outputs": [],
   "source": [
    "class Node(object):\n",
    "    def __init__(self, typ, val):\n",
    "        self.type = typ\n",
    "        self.value = val\n",
    "        self.left = None\n",
    "        self.right = None\n",
    "    def __str__(self):\n",
    "        if self.left is not None:\n",
    "            l = '%s(%s)'%(self.left.type, self.left.value)\n",
    "        else:\n",
    "            l = ''\n",
    "        if self.right is not None:\n",
    "            r = '%s(%s)'%(self.right.type, self.right.value)\n",
    "        else:\n",
    "            r = ''\n",
    "        return '%s(%s) -> [%s, %s]'%(self.type, self.value, l, r)\n",
    "    def setLeft(self, L):\n",
    "        self.left = L\n",
    "    def setRight(self, R):\n",
    "        self.right = R"
   ]
  },
  {
   "cell_type": "code",
   "execution_count": 3,
   "id": "beautiful-aurora",
   "metadata": {},
   "outputs": [],
   "source": [
    "def BuildTree(currNode, currDepth, maxDepth, nodes, nodeType, nodeLens):\n",
    "    #ipdb.set_trace()\n",
    "    # exit if too deep or at a leaf\n",
    "    if (currDepth > maxDepth) or (currNode.type != 'ops'):\n",
    "        return currNode\n",
    "    # randomly generate the left node\n",
    "    nodeTypeL = nodeTypes[np.random.randint(3)]\n",
    "    nodeValuL = nodes[nodeTypeL][np.random.randint(nodeLens[nodeTypeL])]\n",
    "    currNode.setLeft(BuildTree(Node(nodeTypeL, nodeValuL), currDepth+1, maxDepth, nodes, nodeType, nodeLens))\n",
    "\n",
    "    # randomly generate the right node\n",
    "    nodeTypeR = nodeTypes[np.random.randint(3)]\n",
    "    nodeValuR = nodes[nodeTypeR][np.random.randint(nodeLens[nodeTypeR])]\n",
    "    currNode.setRight(BuildTree(Node(nodeTypeR, nodeValuR), currDepth+1, maxDepth, nodes, nodeType, nodeLens))\n",
    "    \n",
    "    return currNode"
   ]
  },
  {
   "cell_type": "code",
   "execution_count": 4,
   "id": "christian-indonesian",
   "metadata": {},
   "outputs": [],
   "source": [
    "ops = ['+', '-', '*', '\\\\', '^', 'max', 'min']\n",
    "feats = ['x%d'%i for i in range(5)]\n",
    "consts = list(range(1, 11))\n",
    "\n",
    "nodes = {'ops':ops, 'feats':feats, 'consts':consts}\n",
    "nodeLens = {'ops':len(ops), 'feats':len(feats), 'consts':len(consts)}\n",
    "nodeTypes = list(nodes.keys())"
   ]
  },
  {
   "cell_type": "code",
   "execution_count": 5,
   "id": "meaning-stream",
   "metadata": {},
   "outputs": [
    {
     "name": "stdout",
     "output_type": "stream",
     "text": [
      "Random seed = 190806\n",
      "consts(7) -> [, ]\n",
      "consts(2) -> [, ]\n",
      "feats(x1) -> [, ]\n",
      "ops(min) -> [feats(x1), ops(+)]\n",
      "feats(x0) -> [, ]\n",
      "ops(-) -> [feats(x3), consts(6)]\n",
      "ops(+) -> [ops(^), feats(x2)]\n",
      "feats(x0) -> [, ]\n",
      "feats(x1) -> [, ]\n",
      "ops(\\) -> [consts(7), consts(9)]\n"
     ]
    }
   ],
   "source": [
    "''' randomly generate some trees '''\n",
    "# set seed\n",
    "nw = dt.datetime.now()\n",
    "randSeed = nw.hour*10000 + nw.minute*100 + nw.second\n",
    "print('Random seed = %d'%randSeed)\n",
    "np.random.seed(randSeed)\n",
    "\n",
    "# set the depth\n",
    "maxDepth = 10\n",
    "depth = np.random.randint(low=1, high=maxDepth+1)\n",
    "\n",
    "# build the tree, starting from the top node\n",
    "treeCnt = 10\n",
    "trees = [None]*treeCnt\n",
    "for t in range(treeCnt):\n",
    "    nodeType = nodeTypes[np.random.randint(3)]\n",
    "    nodeValu = nodes[nodeType][np.random.randint(nodeLens[nodeType])]\n",
    "    #print('%s(%s)'%(nodeType, nodeValu))\n",
    "    trees[t] = BuildTree(Node(nodeType, nodeValu), 0, 3, nodes, nodeType, nodeLens)\n",
    "    print(trees[t])"
   ]
  },
  {
   "cell_type": "code",
   "execution_count": null,
   "id": "beautiful-chinese",
   "metadata": {},
   "outputs": [],
   "source": []
  },
  {
   "cell_type": "code",
   "execution_count": null,
   "id": "junior-series",
   "metadata": {},
   "outputs": [],
   "source": []
  }
 ],
 "metadata": {
  "kernelspec": {
   "display_name": "Python 3",
   "language": "python",
   "name": "python3"
  },
  "language_info": {
   "codemirror_mode": {
    "name": "ipython",
    "version": 3
   },
   "file_extension": ".py",
   "mimetype": "text/x-python",
   "name": "python",
   "nbconvert_exporter": "python",
   "pygments_lexer": "ipython3",
   "version": "3.7.10"
  }
 },
 "nbformat": 4,
 "nbformat_minor": 5
}
