{
 "cells": [
  {
   "cell_type": "markdown",
   "id": "08a31499-e667-4f1b-9ef8-9fc6f9beaa30",
   "metadata": {},
   "source": [
    "# Genetic Programming for Feature Engineering"
   ]
  },
  {
   "cell_type": "code",
   "execution_count": 1,
   "id": "designed-fitting",
   "metadata": {},
   "outputs": [],
   "source": [
    "import numpy as np\n",
    "import pandas as pd\n",
    "import datetime as dt\n",
    "import ipdb\n",
    "from collections import OrderedDict"
   ]
  },
  {
   "cell_type": "markdown",
   "id": "b1ea2f38-4a91-4aa1-af8d-348552feaf5a",
   "metadata": {},
   "source": [
    "## Class and Function Definitions"
   ]
  },
  {
   "cell_type": "code",
   "execution_count": 34,
   "id": "unlikely-drama",
   "metadata": {},
   "outputs": [],
   "source": [
    "# a node encapsulates an operation / fatures / constant; it remembers it's parent, and knows it's children\n",
    "class Node(object):\n",
    "    def __init__(self, typ, val, par):\n",
    "        self.type = typ\n",
    "        self.value = val\n",
    "        self.parent = par\n",
    "        # init the string and left & right to nothing\n",
    "        self.Str = '%s(%s)'%(self.type, self.value)\n",
    "        self.left = None\n",
    "        self.right = None\n",
    "        self.leftStr = '_'\n",
    "        self.rightStr = '_'\n",
    "        \n",
    "    def __str__(self):\n",
    "        return '(%s) -> [%s, %s]'%(self.Str, self.leftStr, self.rightStr)\n",
    "    \n",
    "    def setLeft(self, L):\n",
    "        self.left = L\n",
    "        self.leftStr = '%s(%s)'%(self.left.type, self.left.value)\n",
    "        \n",
    "    def setRight(self, R):\n",
    "        self.right = R\n",
    "        self.rightStr = '%s(%s)'%(self.right.type, self.right.value)"
   ]
  },
  {
   "cell_type": "code",
   "execution_count": null,
   "id": "1d57a0a0-6adf-4d29-a237-3e7728d5309a",
   "metadata": {},
   "outputs": [],
   "source": [
    "# a tree represents the entire function; it knows the root and final leaves\n",
    "class Tree(object):\n",
    "    sef __init__(self, root, leaves):\n",
    "        "
   ]
  },
  {
   "cell_type": "code",
   "execution_count": 106,
   "id": "beautiful-aurora",
   "metadata": {},
   "outputs": [],
   "source": [
    "def BuildTree(currNode, leaves, currDepth, maxDepth, nodes, nodeLens):\n",
    "    '''\n",
    "    Using a set of types of nodes, build a genetic programming functional tree.\n",
    "    :param currNode: Node object representing the root of the tree\n",
    "    :param leaves: level number-keyed ordered dict of the tree's leaves\n",
    "    :param currDepth: integer number (default=0) of the current node depth\n",
    "    :param maxDepth: integer maximum depth allowed for the tree\n",
    "    :param nodes: dictionary holding the node values allowed, with node type\n",
    "        keys of 'ops, 'feats', and 'consts'\n",
    "    :param nodeLens: dictionary holding the number of node values by type,\n",
    "        with node type keys of 'ops, 'feats', and 'consts'\n",
    "    :return currNode: root node of finished tree\n",
    "    '''\n",
    "    # exit if too deep or at a leaf\n",
    "    if (currDepth > maxDepth) or (currNode.type != 'ops'):\n",
    "        if currNode.type != 'ops':\n",
    "            this = leaves[currDepth]\n",
    "            this.append(currNode)\n",
    "            leaves[currDepth] = this\n",
    "        return currNode, leaves    \n",
    "    # hit max depth, so ensure only consts or feats selected\n",
    "    if currDepth == maxDepth:\n",
    "        nt = [t for t in nodes.keys() if t != 'ops']\n",
    "        nodeTypeL = nt[np.random.randint(len(nt))]\n",
    "        nodeTypeR = nt[np.random.randint(len(nt))]\n",
    "    else:\n",
    "        nodeTypeL = nodeTypes[np.random.randint(len(nodes.keys()))]\n",
    "        nodeTypeR = nodeTypes[np.random.randint(len(nodes.keys()))]\n",
    "        \n",
    "    # randomly generate the left node\n",
    "    nodeValuL = nodes[nodeTypeL][np.random.randint(nodeLens[nodeTypeL])]\n",
    "    nodeL, leaves = BuildTree(Node(nodeTypeL, nodeValuL, currNode), leaves, currDepth+1, maxDepth, nodes, nodeLens)\n",
    "    currNode.setLeft(nodeL)\n",
    "\n",
    "    # randomly generate the right node\n",
    "    nodeValuR = nodes[nodeTypeR][np.random.randint(nodeLens[nodeTypeR])]\n",
    "    nodeR, leaves = BuildTree(Node(nodeTypeR, nodeValuR, currNode), leaves, currDepth+1, maxDepth, nodes, nodeLens)\n",
    "    currNode.setRight(nodeR)\n",
    "    \n",
    "    return currNode, leaves"
   ]
  },
  {
   "cell_type": "code",
   "execution_count": 107,
   "id": "e5e8b420-1816-46e0-a2cc-c73e591c50d9",
   "metadata": {},
   "outputs": [
    {
     "name": "stdout",
     "output_type": "stream",
     "text": [
      "Random seed = 572323\n",
      "OrderedDict([(0, 'ops(\\\\)'), (1, 'feats(x1)|consts(5)')])\n",
      "OrderedDict([(0, [<__main__.Node object at 0x00000215FA97F208>, <__main__.Node object at 0x00000215FA8A99C8>]), (1, [<__main__.Node object at 0x00000215FA97F208>, <__main__.Node object at 0x00000215FA8A99C8>]), (2, [<__main__.Node object at 0x00000215FA97F208>, <__main__.Node object at 0x00000215FA8A99C8>]), (3, [<__main__.Node object at 0x00000215FA97F208>, <__main__.Node object at 0x00000215FA8A99C8>]), (4, [<__main__.Node object at 0x00000215FA97F208>, <__main__.Node object at 0x00000215FA8A99C8>]), (5, [<__main__.Node object at 0x00000215FA97F208>, <__main__.Node object at 0x00000215FA8A99C8>]), (6, [<__main__.Node object at 0x00000215FA97F208>, <__main__.Node object at 0x00000215FA8A99C8>]), (7, [<__main__.Node object at 0x00000215FA97F208>, <__main__.Node object at 0x00000215FA8A99C8>]), (8, [<__main__.Node object at 0x00000215FA97F208>, <__main__.Node object at 0x00000215FA8A99C8>]), (9, [<__main__.Node object at 0x00000215FA97F208>, <__main__.Node object at 0x00000215FA8A99C8>])])\n"
     ]
    }
   ],
   "source": [
    "nw = dt.datetime.now()\n",
    "randSeed = nw.second*10000 + nw.minute*100 + nw.hour\n",
    "print('Random seed = %d'%randSeed)\n",
    "nodeType = nodeTypes[np.random.randint(3)]\n",
    "nodeValu = nodes[nodeType][np.random.randint(nodeLens[nodeType])]\n",
    "\n",
    "d = OrderedDict.fromkeys(range(maxDepth), [])\n",
    "t, d = BuildTree(Node(nodeType, nodeValu, None), d, 0, 3, nodes, nodeLens)\n",
    "print(PrintTree(t, maxDepth))\n",
    "print(d)"
   ]
  },
  {
   "cell_type": "markdown",
   "id": "b3f3dbdf-9a6c-4f7c-a1d3-8e7e6badae02",
   "metadata": {},
   "source": [
    "# WORKING ON TRACKING LEAVES WHILE CREATING THE TREE; THEN NEXT NEED TO FINISH DEFINING TREE OBJECT"
   ]
  },
  {
   "cell_type": "code",
   "execution_count": 108,
   "id": "d53d04d8-5b46-412f-ae82-a0c63450c91f",
   "metadata": {},
   "outputs": [
    {
     "data": {
      "text/plain": [
       "OrderedDict([(0,\n",
       "              [<__main__.Node at 0x215fa97f208>,\n",
       "               <__main__.Node at 0x215fa8a99c8>]),\n",
       "             (1,\n",
       "              [<__main__.Node at 0x215fa97f208>,\n",
       "               <__main__.Node at 0x215fa8a99c8>]),\n",
       "             (2,\n",
       "              [<__main__.Node at 0x215fa97f208>,\n",
       "               <__main__.Node at 0x215fa8a99c8>]),\n",
       "             (3,\n",
       "              [<__main__.Node at 0x215fa97f208>,\n",
       "               <__main__.Node at 0x215fa8a99c8>]),\n",
       "             (4,\n",
       "              [<__main__.Node at 0x215fa97f208>,\n",
       "               <__main__.Node at 0x215fa8a99c8>]),\n",
       "             (5,\n",
       "              [<__main__.Node at 0x215fa97f208>,\n",
       "               <__main__.Node at 0x215fa8a99c8>]),\n",
       "             (6,\n",
       "              [<__main__.Node at 0x215fa97f208>,\n",
       "               <__main__.Node at 0x215fa8a99c8>]),\n",
       "             (7,\n",
       "              [<__main__.Node at 0x215fa97f208>,\n",
       "               <__main__.Node at 0x215fa8a99c8>]),\n",
       "             (8,\n",
       "              [<__main__.Node at 0x215fa97f208>,\n",
       "               <__main__.Node at 0x215fa8a99c8>]),\n",
       "             (9,\n",
       "              [<__main__.Node at 0x215fa97f208>,\n",
       "               <__main__.Node at 0x215fa8a99c8>])])"
      ]
     },
     "execution_count": 108,
     "metadata": {},
     "output_type": "execute_result"
    }
   ],
   "source": [
    "d"
   ]
  },
  {
   "cell_type": "code",
   "execution_count": 42,
   "id": "4eec3209-97c8-4e58-9af2-29115db60bde",
   "metadata": {},
   "outputs": [],
   "source": [
    "def RecPrintTree(currNode, tree, currKey):\n",
    "    '''\n",
    "    Recursive tree printing function; only to be called by PrintTree\n",
    "    '''\n",
    "    tree[currKey] += currNode.Str+'|'\n",
    "    if (currNode.left is None) & (currNode.right is None):\n",
    "        return tree\n",
    "    \n",
    "    if currNode.left is not None:\n",
    "        tree = RecPrintTree(currNode.left, tree, currKey+1)\n",
    "    if currNode.right is not None:\n",
    "        tree = RecPrintTree(currNode.right, tree, currKey+1)\n",
    "    return tree\n",
    "\n",
    "def PrintTree(rootNode, maxDepth):\n",
    "    '''\n",
    "    Return a printable genetic programming function tree.\n",
    "    :param rootNode: root of the tree\n",
    "    :param maxDepth: the maximum possible depth of the tree\n",
    "    :return tree: level number-keyed ordered dict of the tree\n",
    "    '''\n",
    "    # populate the tree view dict\n",
    "    tree = OrderedDict.fromkeys(range(maxDepth), '')\n",
    "    tree = RecPrintTree(rootNode, tree, 0)\n",
    "    # unpopulate it now\n",
    "    for key in list(tree.keys()):\n",
    "        if tree[key] == '':\n",
    "            tree.pop(key)\n",
    "        else:\n",
    "            tree[key] = tree[key][:-1]\n",
    "    \n",
    "    return tree"
   ]
  },
  {
   "cell_type": "markdown",
   "id": "7de44049-a0e1-4a37-91b9-801d92723377",
   "metadata": {},
   "source": [
    "## The Works"
   ]
  },
  {
   "cell_type": "code",
   "execution_count": 5,
   "id": "christian-indonesian",
   "metadata": {},
   "outputs": [],
   "source": [
    "# set the possible node values\n",
    "ops = ['+', '-', '*', '\\\\', '^', 'max', 'min']\n",
    "feats = ['x%d'%i for i in range(5)]\n",
    "consts = list(range(1, 11))\n",
    "\n",
    "nodes = {'ops':ops, 'feats':feats, 'consts':consts}\n",
    "nodeLens = {'ops':len(ops), 'feats':len(feats), 'consts':len(consts)}\n",
    "nodeTypes = list(nodes.keys())"
   ]
  },
  {
   "cell_type": "code",
   "execution_count": 18,
   "id": "meaning-stream",
   "metadata": {},
   "outputs": [
    {
     "name": "stdout",
     "output_type": "stream",
     "text": [
      "Random seed = 204835\n",
      "OrderedDict([(0, 'consts(7)')])\n",
      "OrderedDict([(0, 'consts(5)')])\n",
      "OrderedDict([(0, 'consts(2)')])\n",
      "OrderedDict([(0, 'ops(*)'), (1, 'ops(^)|consts(5)'), (2, 'consts(3)|feats(x0)')])\n",
      "OrderedDict([(0, 'feats(x2)')])\n",
      "OrderedDict([(0, 'feats(x4)')])\n",
      "OrderedDict([(0, 'consts(7)')])\n",
      "OrderedDict([(0, 'feats(x2)')])\n",
      "OrderedDict([(0, 'feats(x4)')])\n",
      "OrderedDict([(0, 'feats(x2)')])\n"
     ]
    }
   ],
   "source": [
    "''' randomly generate some trees '''\n",
    "# set seed\n",
    "nw = dt.datetime.now()\n",
    "randSeed = 42#nw.hour*10000 + nw.minute*100 + nw.second\n",
    "print('Random seed = %d'%randSeed)\n",
    "np.random.seed(randSeed)\n",
    "\n",
    "# set the depth\n",
    "maxDepth = 10\n",
    "depth = np.random.randint(low=1, high=maxDepth+1)\n",
    "\n",
    "# build the tree, starting from the top node\n",
    "treeCnt = 10\n",
    "trees = [None]*treeCnt\n",
    "for t in range(treeCnt):\n",
    "    nodeType = nodeTypes[np.random.randint(3)]\n",
    "    nodeValu = nodes[nodeType][np.random.randint(nodeLens[nodeType])]\n",
    "    trees[t] = BuildTree(Node(nodeType, nodeValu, None), 0, 3, nodes, nodeLens)\n",
    "    print(PrintTree(trees[t], maxDepth))"
   ]
  },
  {
   "cell_type": "code",
   "execution_count": null,
   "id": "a27367e7-175c-4488-80f0-19037f074de7",
   "metadata": {},
   "outputs": [],
   "source": []
  }
 ],
 "metadata": {
  "kernelspec": {
   "display_name": "Python 3",
   "language": "python",
   "name": "python3"
  },
  "language_info": {
   "codemirror_mode": {
    "name": "ipython",
    "version": 3
   },
   "file_extension": ".py",
   "mimetype": "text/x-python",
   "name": "python",
   "nbconvert_exporter": "python",
   "pygments_lexer": "ipython3",
   "version": "3.7.10"
  }
 },
 "nbformat": 4,
 "nbformat_minor": 5
}
