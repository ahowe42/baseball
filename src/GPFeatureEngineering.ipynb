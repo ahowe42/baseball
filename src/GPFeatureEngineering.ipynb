{
 "cells": [
  {
   "cell_type": "code",
   "execution_count": 1,
   "id": "designed-fitting",
   "metadata": {},
   "outputs": [],
   "source": [
    "import numpy as np\n",
    "import pandas as pd\n",
    "import datetime as dt\n",
    "import ipdb"
   ]
  },
  {
   "cell_type": "code",
   "execution_count": 2,
   "id": "unlikely-drama",
   "metadata": {},
   "outputs": [],
   "source": [
    "class Node(object):\n",
    "    def __init__(self, typ, val):\n",
    "        self.type = typ\n",
    "        self.value = val\n",
    "        self.Str = '%s(%s)'%(self.type, self.value)\n",
    "        self.left = None\n",
    "        self.right = None\n",
    "        self.leftStr = '_'\n",
    "        self.rightStr = '_'\n",
    "    def __str__(self):\n",
    "        return '%s) -> [%s, %s]'%(self.Str, self.leftStr, self.rightStr)\n",
    "    def setLeft(self, L):\n",
    "        self.left = L\n",
    "        self.leftStr = '%s(%s)'%(self.left.type, self.left.value)\n",
    "    def setRight(self, R):\n",
    "        self.right = R\n",
    "        self.rightStr = '%s(%s)'%(self.right.type, self.right.value)"
   ]
  },
  {
   "cell_type": "code",
   "execution_count": 3,
   "id": "beautiful-aurora",
   "metadata": {},
   "outputs": [],
   "source": [
    "def BuildTree(currNode, currDepth, maxDepth, nodes, nodeType, nodeLens):\n",
    "    #ipdb.set_trace()\n",
    "    # exit if too deep or at a leaf\n",
    "    if (currDepth > maxDepth) or (currNode.type != 'ops'):\n",
    "        return currNode\n",
    "    # hit max depth, so ensure only consts or feats selected\n",
    "    if currDepth == maxDepth:\n",
    "        nt = [t for t in nodeTypes if t != 'ops']\n",
    "        nodeTypeL = nt[np.random.randint(3)]\n",
    "        nodeTypeR = nt[np.random.randint(3)]\n",
    "    else:\n",
    "        nodeTypeL = nodeTypes[np.random.randint(3)]\n",
    "        nodeTypeR = nodeTypes[np.random.randint(3)]\n",
    "        \n",
    "    # randomly generate the left node    \n",
    "    nodeValuL = nodes[nodeTypeL][np.random.randint(nodeLens[nodeTypeL])]\n",
    "    currNode.setLeft(BuildTree(Node(nodeTypeL, nodeValuL), currDepth+1, maxDepth, nodes, nodeType, nodeLens))\n",
    "\n",
    "    # randomly generate the right node    \n",
    "    nodeValuR = nodes[nodeTypeR][np.random.randint(nodeLens[nodeTypeR])]\n",
    "    currNode.setRight(BuildTree(Node(nodeTypeR, nodeValuR), currDepth+1, maxDepth, nodes, nodeType, nodeLens))\n",
    "    \n",
    "    return currNode"
   ]
  },
  {
   "cell_type": "code",
   "execution_count": 14,
   "id": "4eec3209-97c8-4e58-9af2-29115db60bde",
   "metadata": {},
   "outputs": [],
   "source": [
    "def RecPrintTree(currNode, resDict, currKey):\n",
    "    resDict[currKey] += currNode.Str+'|'\n",
    "    if (currNode.left is None) & (currNode.right is None):\n",
    "        return resDict\n",
    "    \n",
    "    if currNode.left is not None:\n",
    "        resDict = RecPrintTree(currNode.left, resDict, currKey+1)\n",
    "    if currNode.right is not None:\n",
    "        resDict = RecPrintTree(currNode.right, resDict, currKey+1)\n",
    "    return resDict\n",
    "\n",
    "def PrintTree(topNode, maxDepth):\n",
    "    # populate the tree view dict\n",
    "    resDict = dict.fromkeys(list(range(maxDepth)), '')\n",
    "    resDict = RecPrintTree(topNode, resDict, 0)\n",
    "    # unpopulate it now\n",
    "    for key in list(resDict.keys()):\n",
    "        if resDict[key] == '':\n",
    "            resDict.pop(key)\n",
    "    \n",
    "    return resDict"
   ]
  },
  {
   "cell_type": "code",
   "execution_count": 5,
   "id": "christian-indonesian",
   "metadata": {},
   "outputs": [],
   "source": [
    "ops = ['+', '-', '*', '\\\\', '^', 'max', 'min']\n",
    "feats = ['x%d'%i for i in range(5)]\n",
    "consts = list(range(1, 11))\n",
    "\n",
    "nodes = {'ops':ops, 'feats':feats, 'consts':consts}\n",
    "nodeLens = {'ops':len(ops), 'feats':len(feats), 'consts':len(consts)}\n",
    "nodeTypes = list(nodes.keys())"
   ]
  },
  {
   "cell_type": "code",
   "execution_count": 19,
   "id": "meaning-stream",
   "metadata": {},
   "outputs": [
    {
     "name": "stdout",
     "output_type": "stream",
     "text": [
      "Random seed = 131320\n",
      "{0: 'ops(max)|', 1: 'feats(x4)|feats(x2)|'}\n",
      "{0: 'ops(^)|', 1: 'ops(*)|consts(4)|', 2: 'feats(x0)|feats(x2)|'}\n",
      "{0: 'consts(1)|'}\n",
      "{0: 'consts(1)|'}\n",
      "{0: 'ops(max)|', 1: 'ops(-)|ops(max)|', 2: 'ops(min)|consts(3)|consts(4)|consts(4)|', 3: 'consts(3)|ops(max)|', 4: 'consts(10)|feats(x2)|'}\n",
      "{0: 'consts(3)|'}\n",
      "{0: 'feats(x0)|'}\n",
      "{0: 'feats(x2)|'}\n",
      "{0: 'feats(x4)|'}\n",
      "{0: 'feats(x3)|'}\n"
     ]
    }
   ],
   "source": [
    "''' randomly generate some trees '''\n",
    "# set seed\n",
    "nw = dt.datetime.now()\n",
    "randSeed = nw.hour*10000 + nw.minute*100 + nw.second\n",
    "print('Random seed = %d'%randSeed)\n",
    "np.random.seed(randSeed)\n",
    "\n",
    "# set the depth\n",
    "maxDepth = 10\n",
    "depth = np.random.randint(low=1, high=maxDepth+1)\n",
    "\n",
    "# build the tree, starting from the top node\n",
    "treeCnt = 10\n",
    "trees = [None]*treeCnt\n",
    "for t in range(treeCnt):\n",
    "    nodeType = nodeTypes[np.random.randint(3)]\n",
    "    nodeValu = nodes[nodeType][np.random.randint(nodeLens[nodeType])]\n",
    "    trees[t] = BuildTree(Node(nodeType, nodeValu), 0, 3, nodes, nodeType, nodeLens)\n",
    "    #print(trees[t])\n",
    "    print(PrintTree(trees[t], maxDepth))"
   ]
  },
  {
   "cell_type": "code",
   "execution_count": null,
   "id": "junior-series",
   "metadata": {},
   "outputs": [],
   "source": []
  }
 ],
 "metadata": {
  "kernelspec": {
   "display_name": "Python 3",
   "language": "python",
   "name": "python3"
  },
  "language_info": {
   "codemirror_mode": {
    "name": "ipython",
    "version": 3
   },
   "file_extension": ".py",
   "mimetype": "text/x-python",
   "name": "python",
   "nbconvert_exporter": "python",
   "pygments_lexer": "ipython3",
   "version": "3.7.10"
  }
 },
 "nbformat": 4,
 "nbformat_minor": 5
}
