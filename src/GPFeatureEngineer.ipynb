{
 "cells": [
  {
   "cell_type": "code",
   "execution_count": 11,
   "id": "afb2246d-b1f9-47ef-b19f-a0a0a72298b6",
   "metadata": {},
   "outputs": [],
   "source": [
    "import numpy as np\n",
    "import pandas as pd"
   ]
  },
  {
   "cell_type": "code",
   "execution_count": 15,
   "id": "f88d48bf-b24c-4e67-ba68-e332666aae61",
   "metadata": {},
   "outputs": [],
   "source": [
    "ops = ['+', '-', '*', '\\\\', '^', 'max', 'min']\n",
    "feats = ['x%d'%i for i in range(10)]\n",
    "consts = list(range(1, 21))\n",
    "nodes = ops + feats + consts"
   ]
  },
  {
   "cell_type": "raw",
   "id": "a57576cc-370f-4d5b-98b1-a3f6a8159d36",
   "metadata": {},
   "source": [
    "Most randomly generated trees will be inconsistent. The top node needs to be an operator, constant / feature nodes must be leaves, and operators can not be leaves. Generating a tree randomly is extremely impactical."
   ]
  },
  {
   "cell_type": "code",
   "execution_count": 35,
   "id": "7d10dfc4-2ad4-4a22-a440-3239ad4d2b2c",
   "metadata": {},
   "outputs": [
    {
     "data": {
      "text/plain": [
       "array(['\\\\', 'x8', '9', '19', '1', '18', '5', 'x3', '2', 'max', '8', 'x2',\n",
       "       'x7'], dtype='<U3')"
      ]
     },
     "execution_count": 35,
     "metadata": {},
     "output_type": "execute_result"
    }
   ],
   "source": [
    "np.random.permutation(nodes)[:np.random.randint(low=3, high=len(nodes))]"
   ]
  },
  {
   "cell_type": "code",
   "execution_count": null,
   "id": "9d7253b6-3a02-47a0-8298-6b4d326725ce",
   "metadata": {},
   "outputs": [],
   "source": []
  },
  {
   "cell_type": "code",
   "execution_count": null,
   "id": "a75e336d-b950-4813-b23f-44750c61f0d4",
   "metadata": {},
   "outputs": [],
   "source": []
  }
 ],
 "metadata": {
  "kernelspec": {
   "display_name": "Python 3",
   "language": "python",
   "name": "python3"
  },
  "language_info": {
   "codemirror_mode": {
    "name": "ipython",
    "version": 3
   },
   "file_extension": ".py",
   "mimetype": "text/x-python",
   "name": "python",
   "nbconvert_exporter": "python",
   "pygments_lexer": "ipython3",
   "version": "3.7.10"
  }
 },
 "nbformat": 4,
 "nbformat_minor": 5
}
