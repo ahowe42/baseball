{
 "cells": [
  {
   "cell_type": "markdown",
   "id": "reliable-delhi",
   "metadata": {},
   "source": [
    "# Genetic Programming for Feature Engineering\n",
    "- <a href=#sample>Apply some Sample Trees to a Dataframe</a>\n",
    "- <a href=#test>Apply the GP to a Test dataset</a>\n",
    "\n",
    "<a id=top></a>"
   ]
  },
  {
   "cell_type": "code",
   "execution_count": null,
   "id": "enormous-behalf",
   "metadata": {},
   "outputs": [],
   "source": [
    "import numpy as np\n",
    "import pandas as pd\n",
    "import datetime as dt\n",
    "import ipdb\n",
    "from collections import OrderedDict\n",
    "import time\n",
    "import copy\n",
    "import re\n",
    "import warnings\n",
    "import sys\n",
    "\n",
    "import chart_studio.plotly as ply\n",
    "import chart_studio.tools as plytool\n",
    "import plotly.figure_factory as ff\n",
    "import plotly.graph_objs as go\n",
    "import plotly.offline as plyoff\n",
    "import plotly.subplots as plysub\n",
    "\n",
    "pd.set_option('display.max_columns', None)"
   ]
  },
  {
   "cell_type": "code",
   "execution_count": null,
   "id": "0193b4c3-b05c-44ff-a2a4-ed6191b4f136",
   "metadata": {},
   "outputs": [],
   "source": [
    "# my imports\n",
    "sys.path.append('../src/')\n",
    "from util.Utils import *\n",
    "from GP.GP import *\n",
    "from GP.FunctionTree import *\n",
    "from GP.Objective import *"
   ]
  },
  {
   "cell_type": "markdown",
   "id": "curious-oakland",
   "metadata": {},
   "source": [
    "## Apply some Sample Trees to a Dataframe\n",
    "<a id=sample></a>\n",
    "<a href=#top>Go to Top</a>"
   ]
  },
  {
   "cell_type": "code",
   "execution_count": null,
   "id": "cathedral-screen",
   "metadata": {},
   "outputs": [],
   "source": [
    "# set the possible node values\n",
    "ops = ['ad', 'sb', 'ml', 'dv', 'pw', 'mx', 'mn']\n",
    "feats = ['X%d'%i for i in range(5)]\n",
    "consts = [0, 1, 2, 3, 10, 100]\n",
    "\n",
    "# must be orderd by descending weight - [values, length, weight] \n",
    "nodeMeta = OrderedDict()\n",
    "nodeMeta['op'] = [ops, len(ops), 0.5]\n",
    "nodeMeta['feat'] = [feats, len(feats), 0.25]\n",
    "nodeMeta['const'] = [consts, len(consts), 0.25]"
   ]
  },
  {
   "cell_type": "code",
   "execution_count": null,
   "id": "cutting-opinion",
   "metadata": {
    "tags": []
   },
   "outputs": [],
   "source": [
    "''' randomly generate some trees '''\n",
    "# set the prng seed\n",
    "randSeed = int(str(time.time()).split('.')[1])\n",
    "print('Random Seed = %d'%randSeed)\n",
    "np.random.seed(randSeed)\n",
    "\n",
    "# set the depth\n",
    "maxDepth = 10\n",
    "\n",
    "# build the tree, starting from the top node\n",
    "treeCnt = 20\n",
    "trees = [None]*treeCnt\n",
    "for indx in range(treeCnt):\n",
    "    print('Creating tree %0d'%indx)\n",
    "    time.sleep(np.random.rand()) # setting a random wait time to allow seed differentiation\n",
    "    trees[indx] = BuildTree(maxDepth, nodeMeta, True)\n",
    "    print(trees[indx])"
   ]
  },
  {
   "cell_type": "code",
   "execution_count": null,
   "id": "expired-february",
   "metadata": {},
   "outputs": [],
   "source": [
    "''' try some GP operations '''\n",
    "# crossover 2 pairs\n",
    "trees.extend(TreesCrossover(trees[8], trees[14], True))\n",
    "trees.extend(TreesCrossover(trees[15], trees[16], True))\n",
    "\n",
    "# mutate 2\n",
    "trees.append(TreeMutate(trees[18], maxDepth, nodeMeta, True))\n",
    "trees.append(TreeMutate(trees[19], maxDepth, nodeMeta, True))"
   ]
  },
  {
   "cell_type": "code",
   "execution_count": null,
   "id": "tested-vegetation",
   "metadata": {},
   "outputs": [],
   "source": [
    "print(trees[13])\n",
    "print('--------')\n",
    "print(trees[16])\n",
    "print('--------')\n",
    "print(trees[-4])\n",
    "print('--------')\n",
    "print(trees[-3])"
   ]
  },
  {
   "cell_type": "code",
   "execution_count": null,
   "id": "ranking-proposition",
   "metadata": {},
   "outputs": [],
   "source": [
    "# generate some data\n",
    "p = len(feats)\n",
    "n = 1000\n",
    "data = pd.DataFrame(data=np.random.rand(n, p), columns=feats)\n",
    "display(data.head())"
   ]
  },
  {
   "cell_type": "code",
   "execution_count": null,
   "id": "under-amateur",
   "metadata": {},
   "outputs": [],
   "source": [
    "# now apply all trees\n",
    "for indx in range(len(trees)):\n",
    "    print('Processing tree %0d'%indx)\n",
    "    func = trees[indx].GenFunction()\n",
    "    data['tree%0d'%indx] = eval(func.replace('X', 'data.X'))\n",
    "# talk\n",
    "display(data.head())"
   ]
  },
  {
   "cell_type": "markdown",
   "id": "biological-praise",
   "metadata": {},
   "source": [
    "## Apply the GP to a Test dataset\n",
    "<a id=test></a>\n",
    "<a href=#top>Go to Top</a>"
   ]
  },
  {
   "cell_type": "code",
   "execution_count": null,
   "id": "miniature-workstation",
   "metadata": {},
   "outputs": [],
   "source": [
    "''' generate some data '''\n",
    "np.random.seed(42)\n",
    "p = 5\n",
    "n = 100\n",
    "\n",
    "# generate the features & build the dataframe\n",
    "X = np.random.normal(loc=10, scale=1, size=(n,p))\n",
    "feats = ['X%d'%i for i in range(p)]\n",
    "data = pd.DataFrame(data=X, columns=feats)\n",
    "\n",
    "# build the actual tree\n",
    "actTreeRoot = Node('op', 'dv', None)\n",
    "actTreeRoot.setLeft(Node('op', 'sb', actTreeRoot))\n",
    "actTreeRoot.setRight(Node('feat', 'X2', actTreeRoot))\n",
    "lft = actTreeRoot.left\n",
    "lft.setLeft(Node('feat', 'X0', lft))\n",
    "lft.setRight(Node('op', 'ml', lft))\n",
    "rgt = lft.right\n",
    "rgt.setLeft(Node('const', '10', rgt))\n",
    "rgt.setRight(Node('feat', 'X1', rgt))\n",
    "actTree = Tree(actTreeRoot, 4)\n",
    "\n",
    "# print the tree\n",
    "actFunc = actTree.function\n",
    "for feat in feats:\n",
    "    actFunc = actFunc.replace(feat, 'data.'+feat)\n",
    "print(actTree)\n",
    "print(actFunc)\n",
    "    \n",
    "# generate the response\n",
    "data['target'] = eval(actFunc)# +  np.random.normal(loc=0, scale=0.5, size=(n,))\n",
    "\n",
    "# talk\n",
    "display(data.head())"
   ]
  },
  {
   "cell_type": "code",
   "execution_count": null,
   "id": "alone-ranking",
   "metadata": {},
   "outputs": [],
   "source": [
    "''' prepare GP input parameters '''\n",
    "# GP parameters\n",
    "parmsGP = {'showTopSubs':10, 'populSize':500, 'numGens':200, 'noChangeTerm':180, 'convgCrit':0.00001,\n",
    "           'elitism':True, 'mateType':1, 'probXover':0.8, 'probMutate':0.3, 'optimGoal':-1,\n",
    "           'plotFlag':True, 'printFreq':10, 'maxDepth':4, 'probPrune':0.4, 'probSimp':0.2}\n",
    "# data parameters\n",
    "parmsData = {'data':data, 'name':'Simulated: %s'%actFunc}\n",
    "# objective parameters\n",
    "parmsObj = {'function':'TreeRegressionMetric',\n",
    "            'arguments':{'data':None, 'tree':None, 'feats':feats, 'metric':'RMSE', 'optimGoal':parmsGP['optimGoal']}}\n",
    "\n",
    "# set the possible node values\n",
    "ops = ['ad', 'sb', 'ml', 'dv', 'pw', 'mx', 'mn']\n",
    "consts = [0, 1, 2, 3, 10, 100]\n",
    "nodeMeta = OrderedDict() # must be orderd by descending weight - [values, length, weight] \n",
    "nodeMeta['op'] = [ops, len(ops), 0.5]\n",
    "nodeMeta['feat'] = [feats, len(feats), 0.25]\n",
    "nodeMeta['const'] = [consts, len(consts), 0.25]"
   ]
  },
  {
   "cell_type": "code",
   "execution_count": null,
   "id": "settled-bedroom",
   "metadata": {
    "tags": []
   },
   "outputs": [],
   "source": [
    "# run the GP - hold on to your butts\n",
    "randSeed = None#42\n",
    "verb = False\n",
    "MSims = 5\n",
    "\n",
    "# init\n",
    "bestTrees = [None]*MSims\n",
    "bestScores = [None]*MSims\n",
    "genBestss = [None]*MSims\n",
    "genScoress = [None]*MSims\n",
    "randSeeds = [None]*MSims\n",
    "timeStamps = [None]*MSims\n",
    "figGPProgresss = [None]*MSims\n",
    "seedTrees = []\n",
    "seedFuncs = []\n",
    "\n",
    "# ignore all warnings - may be a very bad idea\n",
    "with warnings.catch_warnings():\n",
    "    warnings.simplefilter(\"ignore\")\n",
    "    for sim in range(MSims):\n",
    "        print('Executing GP %d of %d'%(sim+1, MSims))\n",
    "        bestTrees[sim], bestScores[sim], genBestss[sim], genScoress[sim],\\\n",
    "        randSeeds[sim], timeStamps[sim], figGPProgresss[sim] = RunGP(parmsGP, parmsData, parmsObj, nodeMeta, seedTrees, verb, randSeed)\n",
    "        # add the best tree to seed the next GP run, if new\n",
    "        bstFunc = bestTrees[sim].function\n",
    "        try:\n",
    "            seedFuncs.index(bstFunc)\n",
    "        except ValueError:\n",
    "            # this best is new, so add\n",
    "            seedTrees.append(bestTrees[sim])\n",
    "            seedFuncs.append(bstFunc)\n",
    "\n",
    "# get the overall best\n",
    "bestIndx = np.argmax(parmsGP['optimGoal']*np.array(bestScores))\n",
    "bestScore = bestScores[bestIndx]\n",
    "bestTree = bestTrees[bestIndx]\n",
    "timeStamp = timeStamps[bestIndx]"
   ]
  },
  {
   "cell_type": "code",
   "execution_count": null,
   "id": "important-region",
   "metadata": {},
   "outputs": [],
   "source": [
    "''' see the actual target-generating function & tree '''\n",
    "# print the function\n",
    "print(actFunc)\n",
    "# print the tree\n",
    "print(actTree)"
   ]
  },
  {
   "cell_type": "code",
   "execution_count": null,
   "id": "numerous-mining",
   "metadata": {},
   "outputs": [],
   "source": [
    "''' evaluate the tree predictions '''\n",
    "# choose the tree\n",
    "tree = bestTree\n",
    "# score it\n",
    "objFunc = parmsObj['function']\n",
    "objArgs = parmsObj['arguments'] \n",
    "objArgs['data'] = data\n",
    "objArgs['tree'] = tree.function\n",
    "objArgs['feats'] = feats\n",
    "objStr = '%s_%s'%(objFunc, ('_'.join(['%s%r'%(key, val) for (key, val) in objArgs.items()\n",
    "                                      if key not in ['data', 'tree', 'feats']])).replace(\"'\",''))\n",
    "score, preds, linreg = globals()[objFunc](**objArgs)\n",
    "print(tree)\n",
    "print('Score = %0.3f'%score)\n",
    "\n",
    "# create the tree function\n",
    "treeFunc = tree.function\n",
    "for feat in feats:\n",
    "    treeFunc = treeFunc.replace(feat, 'data.'+feat)\n",
    "\n",
    "# add the tree results & compute error\n",
    "data['tree'] = eval(treeFunc)\n",
    "data['error'] = data['target'] - data['tree']\n",
    "\n",
    "# talk\n",
    "display(data.head())\n",
    "\n",
    "# plot\n",
    "figGPPerformance = ResultsPlots(data, sequenceCol=None, responseCol='target',\n",
    "                                predCol='tree', resdCol='error', colorCol=None,\n",
    "                                overall_title='GP Performance: %s = %0.3f'%(tree.function, score), plot_colors=('red',)*4)\n",
    "plyoff.plot(figGPPerformance, filename='../output/GPPerformance_%s_%s_%s.html'\\\n",
    "            %(timeStamp, re.sub('[^0-9A-Za-z_]', '_', actFunc), objStr), auto_open=True, include_mathjax='cdn')"
   ]
  },
  {
   "cell_type": "code",
   "execution_count": null,
   "id": "interim-pregnancy",
   "metadata": {},
   "outputs": [],
   "source": [
    "''' evaluate the actual tree predictions '''\n",
    "# choose the tree\n",
    "tree = actTree\n",
    "# score it\n",
    "objFunc = parmsObj['function']\n",
    "objArgs = parmsObj['arguments'] \n",
    "objArgs['data'] = data\n",
    "objArgs['tree'] = tree.function\n",
    "score, preds, linreg = globals()[objFunc](**objArgs)\n",
    "print(tree)\n",
    "print('Score = %0.3f'%score)\n",
    "\n",
    "# create the tree function\n",
    "treeFunc = tree.function\n",
    "for feat in feats:\n",
    "    treeFunc = treeFunc.replace(feat, 'data.'+feat)\n",
    "    \n",
    "# add the tree results & compute error\n",
    "data['actTree'] = eval(treeFunc)\n",
    "data['actError'] = data['target'] - data['actTree']\n",
    "\n",
    "# talk\n",
    "display(data.head())\n",
    "\n",
    "# plot\n",
    "figActPerformance = ResultsPlots(data, sequenceCol=None, responseCol='target',\n",
    "                                predCol='actTree', resdCol='actError', colorCol=None,\n",
    "                                overall_title='Actual Tree Performance: %s = %0.3f'%(tree.function, score), plot_colors=('green',)*4)\n",
    "plyoff.plot(figActPerformance, filename='../output/ActPerformance_%s_%s.html'\\\n",
    "            %(re.sub('[^0-9A-Za-z_]', '_', actFunc), parmsObj['function']), auto_open=True, include_mathjax='cdn')"
   ]
  },
  {
   "cell_type": "code",
   "execution_count": null,
   "id": "9e7245db-cb87-4ab1-a973-b66b750def29",
   "metadata": {},
   "outputs": [],
   "source": [
    "# see some final data results\n",
    "display(data.head())"
   ]
  },
  {
   "cell_type": "markdown",
   "id": "disciplinary-monaco",
   "metadata": {},
   "source": [
    "<a href=#top>Go to Top</a>"
   ]
  }
 ],
 "metadata": {
  "kernelspec": {
   "display_name": "Python 3 (ipykernel)",
   "language": "python",
   "name": "python3"
  },
  "language_info": {
   "codemirror_mode": {
    "name": "ipython",
    "version": 3
   },
   "file_extension": ".py",
   "mimetype": "text/x-python",
   "name": "python",
   "nbconvert_exporter": "python",
   "pygments_lexer": "ipython3",
   "version": "3.7.10"
  }
 },
 "nbformat": 4,
 "nbformat_minor": 5
}
